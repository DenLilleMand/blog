{
 "cells": [
  {
   "cell_type": "markdown",
   "metadata": {},
   "source": [
    "This section is about **linear regression** and looks at a data set of mens 100m winning times since 1896. We will plot the data and try to find some bad and good models."
   ]
  },
  {
   "cell_type": "code",
   "execution_count": 2,
   "metadata": {},
   "outputs": [
    {
     "name": "stdout",
     "output_type": "stream",
     "text": [
      "N:[ 1  2  3  4  5  6  7  8  9 10 11 12 13 14 15 16 17 18 19 20 21 22 23 24 25\n",
      " 26 27]\n",
      "years:[1896 1900 1904 1906 1908 1912 1920 1924 1928 1932 1936 1948 1952 1956 1960\n",
      " 1964 1968 1972 1976 1980 1984 1988 1992 1996 2000 2004 2008]\n",
      "data:[ 12.    11.    11.    11.2   10.8   10.8   10.8   10.6   10.8   10.3   10.3\n",
      "  10.3   10.4   10.5   10.2   10.     9.95  10.14  10.06  10.25   9.99\n",
      "   9.92   9.96   9.84   9.87   9.85   9.69]\n",
      "\n",
      "N shape: (27,)\n",
      "years shape:(27,)\n",
      "data shape:(27,)\n"
     ]
    }
   ],
   "source": [
    "%matplotlib inline\n",
    "import numpy as np\n",
    "import matplotlib.pyplot as plt\n",
    "import numpy.matlib\n",
    "\n",
    "N = np.arange(1, 28);\n",
    "years = np.array([1896, 1900, 1904, 1906, 1908, 1912, \n",
    "                  1920, 1924, 1928, 1932, 1936, 1948, \n",
    "                  1952, 1956, 1960, 1964, 1968, 1972, \n",
    "                  1976, 1980, 1984, 1988, 1992, 1996,\n",
    "                  2000, 2004, 2008\n",
    "                ]);\n",
    "data = np.array([\n",
    "    12.00, 11.00, 11.00, 11.20, 10.80,\n",
    "    10.80, 10.80, 10.60, 10.80, 10.30,\n",
    "    10.30, 10.30, 10.40, 10.50, 10.20,\n",
    "    10.00, 9.95, 10.14, 10.06, 10.25, \n",
    "    9.99, 9.92, 9.96, 9.84, 9.87, 9.85,\n",
    "    9.69\n",
    "])\n",
    "\n",
    "print(\"N:{0}\\nyears:{1}\\ndata:{2}\\n\".format(N, years, data))\n",
    "print(\"N shape: {0}\\nyears shape:{1}\\ndata shape:{2}\".format(N.shape, years.shape, data.shape))\n",
    "\n"
   ]
  },
  {
   "cell_type": "markdown",
   "metadata": {},
   "source": [
    "We map this using the simple **function** $$ t = f(x) $$ and plot it"
   ]
  },
  {
   "cell_type": "code",
   "execution_count": 3,
   "metadata": {},
   "outputs": [
    {
     "data": {
      "image/png": "[encoded data removed]",
      "text/plain": [
       "<matplotlib.figure.Figure at 0x7f748c03d048>"
      ]
     },
     "metadata": {},
     "output_type": "display_data"
    }
   ],
   "source": [
    "plt.figure();\n",
    "plt.plot(years, data, 'ro');\n",
    "plt.xlabel(\"x: years\");\n",
    "plt.ylabel(\"t: winning time\");\n",
    "plt.show();"
   ]
  },
  {
   "cell_type": "markdown",
   "metadata": {},
   "source": [
    "Now, that we have the data plotted, we want to attempt to **fit** another **function** to this data, also called modelling. If we make a very good **model** of this data, we can predict values in the future, beyond 2008 in this case. The incentive behind this is pretty simple, just imagine if you we're able to model the stock market just remotely accurate.\n",
    "\n",
    "There is a lot of ways to do this, we will start out with the most simple one called **linear fitting** which is basically just trying to **fit** a **straight line** to the plotted data. The equation of a line is $ y = mx + c $, **m** and **c** in this case is **parameters**, it is a big theme in machine learning to define **parameters** based on the data. The notation for a **function** that acts on **x** and has parameters **m** and **c** is $ t = f(x;m;c) $. \n",
    "\n",
    "I cheated a bit and just plotted the most accurate values in the chart below where $ c = 36.416 \\land m = -0.013 $, just so you can get an intuition about which direction we want to go. The question still remains though, how do we find these parameters **m** and **c**. It is also apparent in this **model** that we assume the winning time of the runners will decrease in a linear fashion, more accurately by $ f'(x) = -0.013 $ every year, so if the derivative entuition is not enough to prove that this model is invalid, we could simply set $ f(x) = 0 $: $$ solve(36.416 - 0.013x = 0,x) = 2801.23 $$ Meaning that late february in year 2801 men will be so good at running these 100m races that the winning time will be 0 seconds, which means that it is not the most accurate model, not in the long run atleast. Anyway, lets find out how we found these parameters **m** and **c**."
   ]
  },
  {
   "cell_type": "code",
   "execution_count": 4,
   "metadata": {},
   "outputs": [
    {
     "data": {
      "image/png": "[encoded data removed]",
      "text/plain": [
       "<matplotlib.figure.Figure at 0x7f74666d2b70>"
      ]
     },
     "metadata": {},
     "output_type": "display_data"
    }
   ],
   "source": [
    "def rough_linear_estimate(x):\n",
    "    return  36.416 - 0.013 * x;\n",
    "\n",
    "linear_line = np.array([]);\n",
    "\n",
    "for x in years:\n",
    "    linear_line = np.append(linear_line, rough_linear_estimate(x))\n",
    "\n",
    "plt.figure();\n",
    "plt.plot(years, data, 'ro');\n",
    "plt.plot(years, linear_line);\n",
    "\n",
    "plt.xlabel(\"x: years\");\n",
    "plt.ylabel(\"t: winning time\");\n",
    "plt.show();"
   ]
  },
  {
   "cell_type": "markdown",
   "metadata": {},
   "source": [
    "In order to find the **best** parameters of this model, we have to define what **best** means, a common way to estimate this is by calculating the distance from the **line** at every $ y_{n} $ to each $ t_{n} $ value. Formally known as the **squared difference** and annotated by \n",
    "$$ (t_{n} - f(x_{n};m;c))^{2} $$\n",
    "Now if we had to calculate this for every **m**,**x** and **c** values in a brute force manner, we would have to create an almost infinite loop. So we need some better way of calculating this.\n",
    "\n",
    "We will use $\\mathcal{L}_{n} $ (Read as the Lagrange symbol) to denote loss functions, so in the case where we want to calculate the difference of a single entry(n) it would look like this:\n",
    "\n",
    "$$ \\mathcal{L}_{n}(t_{n},f(x_{n};m;c)) = (t_{n} - f(x_{n};m;c))^{2} $$ \n",
    "\n",
    "It is only interesting when we look at the $ \\frac{1}{N} \\sum$ of all of these differences, we denote this with $$ \\mathcal{L} =  \\frac{1}{N} \\sum^{N}_{n=1} \\mathcal{L}_{n}(t_{n},f(x_{n};m;c)) $$\n",
    "\n",
    "The parameter combination giving us the lowest average distance is our optimal parameters, getting to this result we denote $$ argmin_{m, c} \\text{ }  \\frac{1}{N} \\sum^{N}_{n=1} \\mathcal{L}_{n}(t_{n}, f(x_{n};m;c))$$\n",
    "\n",
    "which basically just means finding the parameters **c** and **m** which **minimizes** the average squared loss. \n",
    "\n",
    "Something that could be interesting is to see what the difference is between the **average loss** value vs the **average squared loss** to see why we have to square it. \n",
    "\n"
   ]
  },
  {
   "cell_type": "code",
   "execution_count": 5,
   "metadata": {},
   "outputs": [
    {
     "name": "stdout",
     "output_type": "stream",
     "text": [
      "Avg loss:-0.6455555555555534\n",
      "Avg loss squared:0.4671832592592563\n",
      "\n"
     ]
    }
   ],
   "source": [
    "def average_loss(data, model):\n",
    "    sum = 0.0;\n",
    "    for n in range(data.shape[0]):\n",
    "        sum += data[n] - model[n];\n",
    "    return sum / data.shape[0]\n",
    "\n",
    "def average_loss_squared(data, model):\n",
    "    sum = 0.0;\n",
    "    for n in range(data.shape[0]):\n",
    "        sum += (data[n] - model[n]) ** 2;\n",
    "    return sum / data.shape[0]\n",
    "\n",
    "avg_loss = average_loss(data, linear_line);\n",
    "avg_loss_sqr = average_loss_squared(data, linear_line);\n",
    "print(\"Avg loss:{0}\\nAvg loss squared:{1}\\n\".format(avg_loss, avg_loss_sqr))"
   ]
  },
  {
   "cell_type": "markdown",
   "metadata": {},
   "source": [
    "So we can see that without the square, we can get negative values which doesn't really make sense when dealing with distances, If we square it, we will always get a positive result. \n",
    "A common alternative is the **absolute loss** denoted $$ \\mathcal{L}_{n} = |t_{n} - f(x_{n};c;m)|$$"
   ]
  },
  {
   "cell_type": "markdown",
   "metadata": {},
   "source": [
    "What we're interested in though is to unpack these formulars all the way, so that we can find the **partial derivatives** \n",
    "of our parameters. Setting a **partial derivative** equal to zero gives us turning points which could be a minima. \n",
    "\n",
    "$$ \\mathcal{L} = \\frac{1}{N} \\sum^{N}_{n=1} \\mathcal{L}_{n}(t_{n}, f(x_{n};m;c)) $$\n",
    "$$   = \\frac{1}{N} \\sum^{N}_{n=1} (t_{n} - f(x_{n};m;c))^{2} $$\n",
    "$$   = \\frac{1}{N} \\sum^{N}_{n=1} (t_{n} - (c + x_{n}m))^{2} $$\n",
    "$$   = \\frac{1}{N} \\sum^{N}_{n=1} (t_{n} - (c + x_{n}m))(t_{n}-(c + x_{n}m) $$\n",
    "\n"
   ]
  },
  {
   "cell_type": "code",
   "execution_count": null,
   "metadata": {
    "collapsed": true
   },
   "outputs": [],
   "source": []
  }
 ],
 "metadata": {
  "kernelspec": {
   "display_name": "Python 3",
   "language": "python",
   "name": "python3"
  },
  "language_info": {
   "codemirror_mode": {
    "name": "ipython",
    "version": 3
   },
   "file_extension": ".py",
   "mimetype": "text/x-python",
   "name": "python",
   "nbconvert_exporter": "python",
   "pygments_lexer": "ipython3",
   "version": "3.6.1"
  }
 },
 "nbformat": 4,
 "nbformat_minor": 2
}
